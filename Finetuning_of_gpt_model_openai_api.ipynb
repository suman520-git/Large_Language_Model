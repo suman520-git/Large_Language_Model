{
  "nbformat": 4,
  "nbformat_minor": 0,
  "metadata": {
    "colab": {
      "provenance": [],
      "authorship_tag": "ABX9TyPvcqmdZUN4rRjBCIChw8h8",
      "include_colab_link": true
    },
    "kernelspec": {
      "name": "python3",
      "display_name": "Python 3"
    },
    "language_info": {
      "name": "python"
    }
  },
  "cells": [
    {
      "cell_type": "markdown",
      "metadata": {
        "id": "view-in-github",
        "colab_type": "text"
      },
      "source": [
        "<a href=\"https://colab.research.google.com/github/suman520-git/Large_Language_Model/blob/main/Finetuning_of_gpt_model_openai_api.ipynb\" target=\"_parent\"><img src=\"https://colab.research.google.com/assets/colab-badge.svg\" alt=\"Open In Colab\"/></a>"
      ]
    },
    {
      "cell_type": "code",
      "execution_count": 1,
      "metadata": {
        "colab": {
          "base_uri": "https://localhost:8080/"
        },
        "id": "AwPOIjfEMi6-",
        "outputId": "273c0fc5-341c-4e35-8153-909e031cf5f0"
      },
      "outputs": [
        {
          "output_type": "stream",
          "name": "stdout",
          "text": [
            "Requirement already satisfied: openai in /usr/local/lib/python3.11/dist-packages (1.99.1)\n",
            "Requirement already satisfied: anyio<5,>=3.5.0 in /usr/local/lib/python3.11/dist-packages (from openai) (4.10.0)\n",
            "Requirement already satisfied: distro<2,>=1.7.0 in /usr/local/lib/python3.11/dist-packages (from openai) (1.9.0)\n",
            "Requirement already satisfied: httpx<1,>=0.23.0 in /usr/local/lib/python3.11/dist-packages (from openai) (0.28.1)\n",
            "Requirement already satisfied: jiter<1,>=0.4.0 in /usr/local/lib/python3.11/dist-packages (from openai) (0.10.0)\n",
            "Requirement already satisfied: pydantic<3,>=1.9.0 in /usr/local/lib/python3.11/dist-packages (from openai) (2.11.7)\n",
            "Requirement already satisfied: sniffio in /usr/local/lib/python3.11/dist-packages (from openai) (1.3.1)\n",
            "Requirement already satisfied: tqdm>4 in /usr/local/lib/python3.11/dist-packages (from openai) (4.67.1)\n",
            "Requirement already satisfied: typing-extensions<5,>=4.11 in /usr/local/lib/python3.11/dist-packages (from openai) (4.14.1)\n",
            "Requirement already satisfied: idna>=2.8 in /usr/local/lib/python3.11/dist-packages (from anyio<5,>=3.5.0->openai) (3.10)\n",
            "Requirement already satisfied: certifi in /usr/local/lib/python3.11/dist-packages (from httpx<1,>=0.23.0->openai) (2025.8.3)\n",
            "Requirement already satisfied: httpcore==1.* in /usr/local/lib/python3.11/dist-packages (from httpx<1,>=0.23.0->openai) (1.0.9)\n",
            "Requirement already satisfied: h11>=0.16 in /usr/local/lib/python3.11/dist-packages (from httpcore==1.*->httpx<1,>=0.23.0->openai) (0.16.0)\n",
            "Requirement already satisfied: annotated-types>=0.6.0 in /usr/local/lib/python3.11/dist-packages (from pydantic<3,>=1.9.0->openai) (0.7.0)\n",
            "Requirement already satisfied: pydantic-core==2.33.2 in /usr/local/lib/python3.11/dist-packages (from pydantic<3,>=1.9.0->openai) (2.33.2)\n",
            "Requirement already satisfied: typing-inspection>=0.4.0 in /usr/local/lib/python3.11/dist-packages (from pydantic<3,>=1.9.0->openai) (0.4.1)\n"
          ]
        }
      ],
      "source": [
        "!pip install openai"
      ]
    },
    {
      "cell_type": "code",
      "source": [
        "from google.colab import userdata\n",
        "OPENAI_API_KEY=userdata.get('OPENAI_API_KEY')"
      ],
      "metadata": {
        "id": "Q6WBM-jKNPY8"
      },
      "execution_count": 2,
      "outputs": []
    },
    {
      "cell_type": "code",
      "source": [
        "import os\n",
        "os.environ[\"OPENAI_API_KEY\"] = OPENAI_API_KEY"
      ],
      "metadata": {
        "id": "lNaFGOoUNPb8"
      },
      "execution_count": 3,
      "outputs": []
    },
    {
      "cell_type": "code",
      "source": [
        "from openai import OpenAI\n",
        "client = OpenAI()"
      ],
      "metadata": {
        "id": "t3di84nbNPe-"
      },
      "execution_count": 5,
      "outputs": []
    },
    {
      "cell_type": "code",
      "source": [
        "completion = client.chat.completions.create(\n",
        "    model=\"gpt-4o-mini\",\n",
        "    messages=[\n",
        "        {\"role\": \"system\", \"content\": \"You are a helpful assistant.\"},\n",
        "        {\n",
        "            \"role\": \"user\",\n",
        "            \"content\": \"what is a championes trophy in cricket how it is different from worldcup.\"\n",
        "        }\n",
        "    ]\n",
        ")"
      ],
      "metadata": {
        "id": "M-tyPmaNNPhj"
      },
      "execution_count": 6,
      "outputs": []
    },
    {
      "cell_type": "code",
      "source": [
        "print(completion.choices[0].message.content)"
      ],
      "metadata": {
        "colab": {
          "base_uri": "https://localhost:8080/"
        },
        "id": "A8OhW2S9NPkM",
        "outputId": "cdaff7e9-ccb4-47af-b4ef-d10b1ac998d0"
      },
      "execution_count": 7,
      "outputs": [
        {
          "output_type": "stream",
          "name": "stdout",
          "text": [
            "The Champions Trophy is a cricket tournament organized by the International Cricket Council (ICC). It is a limited-overs (50-over) competition that typically involves a smaller number of teams compared to the Cricket World Cup. Here are the key differences and features of the ICC Champions Trophy and the ICC Cricket World Cup:\n",
            "\n",
            "### Champions Trophy:\n",
            "1. **Format**: The Champions Trophy features a series of matches usually played in a round-robin format or in a group stage followed by knockout rounds.\n",
            "2. **Number of Teams**: The tournament generally includes 8 teams, which are usually the top ranked teams in One Day International (ODI) cricket.\n",
            "3. **Frequency**: The Champions Trophy is held less frequently than the World Cup, typically every 2-4 years.\n",
            "4. **Duration**: The tournament is shorter, lasting about 2-3 weeks.\n",
            "5. **Purpose**: It acts as a showcase for the best ODIs and is essentially a prestigious tournament with a smaller scale.\n",
            "\n",
            "### Cricket World Cup:\n",
            "1. **Format**: The Cricket World Cup also features multiple teams but typically involves a larger tournament structure with a group stage followed by knockout rounds, culminating in a final.\n",
            "2. **Number of Teams**: The Cricket World Cup has involved 10 to 14 teams (in the past; the number varies with each edition).\n",
            "3. **Frequency**: The Cricket World Cup occurs every four years.\n",
            "4. **Duration**: The tournament lasts longer, usually over a month.\n",
            "5. **Significance**: The World Cup is considered the premier event in ODI cricket and is the most prestigious tournament, representing the ultimate goal for cricketers.\n",
            "\n",
            "In summary, while both are important tournaments in the realm of limited-overs cricket, the ICC Champions Trophy is smaller in scale and scope compared to the ICC Cricket World Cup, which is the flagship event in cricket.\n"
          ]
        }
      ]
    },
    {
      "cell_type": "code",
      "source": [
        "import json\n",
        "\n",
        "with open(\"/content/test.jsonl\",\"r\",encoding=\"utf-8\") as file:\n",
        "  data=[json.loads(line) for line in file]"
      ],
      "metadata": {
        "id": "ZzPopFxMNPm3"
      },
      "execution_count": 8,
      "outputs": []
    },
    {
      "cell_type": "code",
      "source": [
        "data"
      ],
      "metadata": {
        "colab": {
          "base_uri": "https://localhost:8080/"
        },
        "id": "2c1-dLSuNPpe",
        "outputId": "70145bf4-9ce8-40ec-9f32-f79218fa474c"
      },
      "execution_count": 9,
      "outputs": [
        {
          "output_type": "execute_result",
          "data": {
            "text/plain": [
              "[{'messages': [{'role': 'system',\n",
              "    'content': 'You are a customer support agent for a smartphone company whose primary goal is to help users with issues they are experiencing with their smartphones. You are friendly and concise. You only provide factual answers to queries, and do not provide answers that are not related to smartphones.'},\n",
              "   {'role': 'user', 'content': 'What warranty does a smartphone come with?'},\n",
              "   {'role': 'assistant',\n",
              "    'content': 'Smartphones typically come with a one-year limited warranty covering manufacturer defects. For specific warranty details, please refer to your product documentation or the official website.'}]},\n",
              " {'messages': [{'role': 'system',\n",
              "    'content': 'You are a customer support agent for a smartphone company whose primary goal is to help users with issues they are experiencing with their smartphones. You are friendly and concise. You only provide factual answers to queries, and do not provide answers that are not related to smartphones.'},\n",
              "   {'role': 'user',\n",
              "    'content': 'Are all apps available on both iOS and Android?'},\n",
              "   {'role': 'assistant',\n",
              "    'content': 'No, not all apps are available on both iOS and Android. Each platform has its own app store and some apps may be exclusive to one platform. Please check the respective app stores for availability.'}]},\n",
              " {'messages': [{'role': 'system',\n",
              "    'content': 'You are a customer support agent for a smartphone company whose primary goal is to help users with issues they are experiencing with their smartphones. You are friendly and concise. You only provide factual answers to queries, and do not provide answers that are not related to smartphones.'},\n",
              "   {'role': 'user',\n",
              "    'content': 'Will I get a discount if I purchase a smartphone during a holiday sale?'},\n",
              "   {'role': 'assistant',\n",
              "    'content': 'Discounts and promotions vary during holiday sales. Please check the official website or sign up for the newsletter to receive the latest information on upcoming sales and discounts.'}]},\n",
              " {'messages': [{'role': 'system',\n",
              "    'content': 'You are a customer support agent for a smartphone company whose primary goal is to help users with issues they are experiencing with their smartphones. You are friendly and concise. You only provide factual answers to queries, and do not provide answers that are not related to smartphones.'},\n",
              "   {'role': 'user',\n",
              "    'content': 'Where can I get my smartphone serviced or repaired?'},\n",
              "   {'role': 'assistant',\n",
              "    'content': 'You can request servicing or repair for your smartphone through our official support website. Additionally, you can visit one of our authorized service centers.'}]},\n",
              " {'messages': [{'role': 'system',\n",
              "    'content': 'You are a customer support agent for a smartphone company whose primary goal is to help users with issues they are experiencing with their smartphones. You are friendly and concise. You only provide factual answers to queries, and do not provide answers that are not related to smartphones.'},\n",
              "   {'role': 'user',\n",
              "    'content': 'Will I get a discount if I purchase a smartphone during a holiday sale?'},\n",
              "   {'role': 'assistant',\n",
              "    'content': 'Discounts and promotions vary during holiday sales. Please check the official website or sign up for the newsletter to receive the latest information on upcoming sales and discounts.'}]},\n",
              " {'messages': [{'role': 'system',\n",
              "    'content': 'You are a customer support agent for a smartphone company whose primary goal is to help users with issues they are experiencing with their smartphones. You are friendly and concise. You only provide factual answers to queries, and do not provide answers that are not related to smartphones.'},\n",
              "   {'role': 'user',\n",
              "    'content': 'Where can I get my smartphone serviced or repaired?'},\n",
              "   {'role': 'assistant',\n",
              "    'content': 'You can request servicing or repair for your smartphone through our official support website. Additionally, you can visit one of our authorized service centers.'}]},\n",
              " {'messages': [{'role': 'system',\n",
              "    'content': 'You are a customer support agent for a smartphone company whose primary goal is to help users with issues they are experiencing with their smartphones. You are friendly and concise. You only provide factual answers to queries, and do not provide answers that are not related to smartphones.'},\n",
              "   {'role': 'user', 'content': 'What warranty does a smartphone come with?'},\n",
              "   {'role': 'assistant',\n",
              "    'content': 'Smartphones typically come with a one-year limited warranty covering manufacturer defects. For specific warranty details, please refer to your product documentation or the official website.'}]},\n",
              " {'messages': [{'role': 'system',\n",
              "    'content': 'You are a customer support agent for a smartphone company whose primary goal is to help users with issues they are experiencing with their smartphones. You are friendly and concise. You only provide factual answers to queries, and do not provide answers that are not related to smartphones.'},\n",
              "   {'role': 'user',\n",
              "    'content': 'Are all apps available on both iOS and Android?'},\n",
              "   {'role': 'assistant',\n",
              "    'content': 'No, not all apps are available on both iOS and Android. Each platform has its own app store and some apps may be exclusive to one platform. Please check the respective app stores for availability.'}]},\n",
              " {'messages': [{'role': 'system',\n",
              "    'content': 'You are a customer support agent for a smartphone company whose primary goal is to help users with issues they are experiencing with their smartphones. You are friendly and concise. You only provide factual answers to queries, and do not provide answers that are not related to smartphones.'},\n",
              "   {'role': 'user',\n",
              "    'content': 'Will I get a discount if I purchase a smartphone during a holiday sale?'},\n",
              "   {'role': 'assistant',\n",
              "    'content': 'Discounts and promotions vary during holiday sales. Please check the official website or sign up for the newsletter to receive the latest information on upcoming sales and discounts.'}]},\n",
              " {'messages': [{'role': 'system',\n",
              "    'content': 'You are a customer support agent for a smartphone company whose primary goal is to help users with issues they are experiencing with their smartphones. You are friendly and concise. You only provide factual answers to queries, and do not provide answers that are not related to smartphones.'},\n",
              "   {'role': 'user',\n",
              "    'content': 'Where can I get my smartphone serviced or repaired?'},\n",
              "   {'role': 'assistant',\n",
              "    'content': 'You can request servicing or repair for your smartphone through our official support website. Additionally, you can visit one of our authorized service centers.'}]}]"
            ]
          },
          "metadata": {},
          "execution_count": 9
        }
      ]
    },
    {
      "cell_type": "code",
      "source": [
        "data[0]"
      ],
      "metadata": {
        "colab": {
          "base_uri": "https://localhost:8080/"
        },
        "id": "9T3s5BQ9NPsA",
        "outputId": "eb14418b-169b-4cf6-e2b6-e40d24a124b4"
      },
      "execution_count": 10,
      "outputs": [
        {
          "output_type": "execute_result",
          "data": {
            "text/plain": [
              "{'messages': [{'role': 'system',\n",
              "   'content': 'You are a customer support agent for a smartphone company whose primary goal is to help users with issues they are experiencing with their smartphones. You are friendly and concise. You only provide factual answers to queries, and do not provide answers that are not related to smartphones.'},\n",
              "  {'role': 'user', 'content': 'What warranty does a smartphone come with?'},\n",
              "  {'role': 'assistant',\n",
              "   'content': 'Smartphones typically come with a one-year limited warranty covering manufacturer defects. For specific warranty details, please refer to your product documentation or the official website.'}]}"
            ]
          },
          "metadata": {},
          "execution_count": 10
        }
      ]
    },
    {
      "cell_type": "code",
      "source": [
        "data[9]"
      ],
      "metadata": {
        "colab": {
          "base_uri": "https://localhost:8080/"
        },
        "id": "pn4DrZq9NPub",
        "outputId": "4effeb51-f601-4e6e-cb10-c51470ce9970"
      },
      "execution_count": 15,
      "outputs": [
        {
          "output_type": "execute_result",
          "data": {
            "text/plain": [
              "{'messages': [{'role': 'system',\n",
              "   'content': 'You are a customer support agent for a smartphone company whose primary goal is to help users with issues they are experiencing with their smartphones. You are friendly and concise. You only provide factual answers to queries, and do not provide answers that are not related to smartphones.'},\n",
              "  {'role': 'user',\n",
              "   'content': 'Where can I get my smartphone serviced or repaired?'},\n",
              "  {'role': 'assistant',\n",
              "   'content': 'You can request servicing or repair for your smartphone through our official support website. Additionally, you can visit one of our authorized service centers.'}]}"
            ]
          },
          "metadata": {},
          "execution_count": 15
        }
      ]
    },
    {
      "cell_type": "code",
      "source": [],
      "metadata": {
        "id": "52cIHcxJNPxR"
      },
      "execution_count": null,
      "outputs": []
    },
    {
      "cell_type": "code",
      "source": [
        "client.files.create(\n",
        "    file=open(\"/content/test.jsonl\",\"rb\"),\n",
        "    purpose=\"fine-tune\"\n",
        ")"
      ],
      "metadata": {
        "colab": {
          "base_uri": "https://localhost:8080/"
        },
        "id": "y14DbVN1NPz-",
        "outputId": "4b5893f5-88e8-4e8e-9bc4-28410637aad2"
      },
      "execution_count": 16,
      "outputs": [
        {
          "output_type": "execute_result",
          "data": {
            "text/plain": [
              "FileObject(id='file-LzsMs8HoGme8mjLNkG1tj5', bytes=6429, created_at=1754953627, filename='test.jsonl', object='file', purpose='fine-tune', status='processed', expires_at=None, status_details=None)"
            ]
          },
          "metadata": {},
          "execution_count": 16
        }
      ]
    },
    {
      "cell_type": "code",
      "source": [
        "files=client.files.list()"
      ],
      "metadata": {
        "id": "NVvqH5EqNP28"
      },
      "execution_count": 17,
      "outputs": []
    },
    {
      "cell_type": "code",
      "source": [
        "files"
      ],
      "metadata": {
        "colab": {
          "base_uri": "https://localhost:8080/"
        },
        "id": "0zdzT0_7Y2cO",
        "outputId": "a5acdb87-a131-442c-e936-f60d7bd0f0f0"
      },
      "execution_count": 18,
      "outputs": [
        {
          "output_type": "execute_result",
          "data": {
            "text/plain": [
              "SyncCursorPage[FileObject](data=[FileObject(id='file-LzsMs8HoGme8mjLNkG1tj5', bytes=6429, created_at=1754953627, filename='test.jsonl', object='file', purpose='fine-tune', status='processed', expires_at=None, status_details=None), FileObject(id='file-X3GY8gwSqDRNRivvTFHZBY', bytes=2492, created_at=1746912251, filename='step_metrics.csv', object='file', purpose='fine-tune-results', status='processed', expires_at=None, status_details=None), FileObject(id='file-5tHQQJPyF5LbRrNnfjpgLu', bytes=6429, created_at=1746911083, filename='test-34ef34d0dd8da72319d16973fe35edda.jsonl', object='file', purpose='fine-tune', status='processed', expires_at=None, status_details=None), FileObject(id='file-7qBB7U8GbWXCmKLrJT14hN', bytes=5956, created_at=1744913259, filename='step_metrics.csv', object='file', purpose='fine-tune-results', status='processed', expires_at=None, status_details=None), FileObject(id='file-1e4rJhiRSz7sMdTFzRVJ3h', bytes=47085, created_at=1744911671, filename='fine_tune_validation.jsonl', object='file', purpose='fine-tune', status='processed', expires_at=None, status_details=None), FileObject(id='file-UsijQ9AAdjukaxgKypWjsA', bytes=188742, created_at=1744911656, filename='fine_tune_train.jsonl', object='file', purpose='fine-tune', status='processed', expires_at=None, status_details=None)], has_more=False, object='list', first_id='file-LzsMs8HoGme8mjLNkG1tj5', last_id='file-UsijQ9AAdjukaxgKypWjsA')"
            ]
          },
          "metadata": {},
          "execution_count": 18
        }
      ]
    },
    {
      "cell_type": "code",
      "source": [
        "for file in files:\n",
        "  print('FILEIDxx :',file.id)\n",
        "  print(100*\"=\")\n",
        "  print(file.purpose)\n",
        "  print(100*\"=\")\n",
        "  print(file)"
      ],
      "metadata": {
        "colab": {
          "base_uri": "https://localhost:8080/"
        },
        "id": "upSnWzhQY2fe",
        "outputId": "a32de905-5ca0-4f5f-a746-9f16e7d41c1e"
      },
      "execution_count": 31,
      "outputs": [
        {
          "output_type": "stream",
          "name": "stdout",
          "text": [
            "FILEIDxx : file-LzsMs8HoGme8mjLNkG1tj5\n",
            "====================================================================================================\n",
            "fine-tune\n",
            "====================================================================================================\n",
            "FileObject(id='file-LzsMs8HoGme8mjLNkG1tj5', bytes=6429, created_at=1754953627, filename='test.jsonl', object='file', purpose='fine-tune', status='processed', expires_at=None, status_details=None)\n",
            "FILEIDxx : file-X3GY8gwSqDRNRivvTFHZBY\n",
            "====================================================================================================\n",
            "fine-tune-results\n",
            "====================================================================================================\n",
            "FileObject(id='file-X3GY8gwSqDRNRivvTFHZBY', bytes=2492, created_at=1746912251, filename='step_metrics.csv', object='file', purpose='fine-tune-results', status='processed', expires_at=None, status_details=None)\n",
            "FILEIDxx : file-5tHQQJPyF5LbRrNnfjpgLu\n",
            "====================================================================================================\n",
            "fine-tune\n",
            "====================================================================================================\n",
            "FileObject(id='file-5tHQQJPyF5LbRrNnfjpgLu', bytes=6429, created_at=1746911083, filename='test-34ef34d0dd8da72319d16973fe35edda.jsonl', object='file', purpose='fine-tune', status='processed', expires_at=None, status_details=None)\n",
            "FILEIDxx : file-7qBB7U8GbWXCmKLrJT14hN\n",
            "====================================================================================================\n",
            "fine-tune-results\n",
            "====================================================================================================\n",
            "FileObject(id='file-7qBB7U8GbWXCmKLrJT14hN', bytes=5956, created_at=1744913259, filename='step_metrics.csv', object='file', purpose='fine-tune-results', status='processed', expires_at=None, status_details=None)\n",
            "FILEIDxx : file-1e4rJhiRSz7sMdTFzRVJ3h\n",
            "====================================================================================================\n",
            "fine-tune\n",
            "====================================================================================================\n",
            "FileObject(id='file-1e4rJhiRSz7sMdTFzRVJ3h', bytes=47085, created_at=1744911671, filename='fine_tune_validation.jsonl', object='file', purpose='fine-tune', status='processed', expires_at=None, status_details=None)\n",
            "FILEIDxx : file-UsijQ9AAdjukaxgKypWjsA\n",
            "====================================================================================================\n",
            "fine-tune\n",
            "====================================================================================================\n",
            "FileObject(id='file-UsijQ9AAdjukaxgKypWjsA', bytes=188742, created_at=1744911656, filename='fine_tune_train.jsonl', object='file', purpose='fine-tune', status='processed', expires_at=None, status_details=None)\n"
          ]
        }
      ]
    },
    {
      "cell_type": "code",
      "source": [
        "training_file_id=\"file-LzsMs8HoGme8mjLNkG1tj5\""
      ],
      "metadata": {
        "id": "T9yGKhT8Y2iZ"
      },
      "execution_count": 32,
      "outputs": []
    },
    {
      "cell_type": "code",
      "source": [
        "suffix_name=\"first finetune model\""
      ],
      "metadata": {
        "id": "BvVG6GUtY2lK"
      },
      "execution_count": 33,
      "outputs": []
    },
    {
      "cell_type": "code",
      "source": [
        "x=client.fine_tuning.jobs.create(\n",
        "    training_file=training_file_id,\n",
        "    model=\"gpt-3.5-turbo\",\n",
        "    suffix=suffix_name\n",
        "\n",
        ")"
      ],
      "metadata": {
        "id": "EhGRGKtTY2n0"
      },
      "execution_count": 37,
      "outputs": []
    },
    {
      "cell_type": "code",
      "source": [
        "client.fine_tuning.jobs.list()"
      ],
      "metadata": {
        "colab": {
          "base_uri": "https://localhost:8080/"
        },
        "id": "GsZWFsRnY2qk",
        "outputId": "2e916937-58e7-4768-af50-9e02b800c71b"
      },
      "execution_count": 38,
      "outputs": [
        {
          "output_type": "execute_result",
          "data": {
            "text/plain": [
              "SyncCursorPage[FineTuningJob](data=[FineTuningJob(id='ftjob-dzQRLsFURSn0gKlkPF72KFez', created_at=1754955220, error=Error(code=None, message=None, param=None), fine_tuned_model=None, finished_at=None, hyperparameters=Hyperparameters(batch_size=1, learning_rate_multiplier=2.0, n_epochs=10), model='gpt-3.5-turbo-0125', object='fine_tuning.job', organization_id='org-N5jCdFOwg7AbgJgJ44UHXd3f', result_files=[], seed=1733799252, status='validating_files', trained_tokens=None, training_file='file-LzsMs8HoGme8mjLNkG1tj5', validation_file=None, estimated_finish=None, integrations=[], metadata=None, method=Method(type='supervised', dpo=None, reinforcement=None, supervised=SupervisedMethod(hyperparameters=SupervisedHyperparameters(batch_size=1, learning_rate_multiplier=2.0, n_epochs=10))), user_provided_suffix='first finetune model', usage_metrics=None, shared_with_openai=False, eval_id=None), FineTuningJob(id='ftjob-Tu1pQeTfqvWPJOzwwFd9u5Lw', created_at=1754955131, error=Error(code=None, message=None, param=None), fine_tuned_model=None, finished_at=None, hyperparameters=Hyperparameters(batch_size=1, learning_rate_multiplier=2.0, n_epochs=10), model='gpt-3.5-turbo-0125', object='fine_tuning.job', organization_id='org-N5jCdFOwg7AbgJgJ44UHXd3f', result_files=[], seed=477626453, status='running', trained_tokens=None, training_file='file-LzsMs8HoGme8mjLNkG1tj5', validation_file=None, estimated_finish=None, integrations=[], metadata=None, method=Method(type='supervised', dpo=None, reinforcement=None, supervised=SupervisedMethod(hyperparameters=SupervisedHyperparameters(batch_size=1, learning_rate_multiplier=2.0, n_epochs=10))), user_provided_suffix='first finetune model', usage_metrics=None, shared_with_openai=False, eval_id=None), FineTuningJob(id='ftjob-DVEy8uen9eH0q3whDTASy93O', created_at=1754954260, error=Error(code=None, message=None, param=None), fine_tuned_model=None, finished_at=1754954624, hyperparameters=Hyperparameters(batch_size=1, learning_rate_multiplier=2.0, n_epochs=10), model='gpt-3.5-turbo-0125', object='fine_tuning.job', organization_id='org-N5jCdFOwg7AbgJgJ44UHXd3f', result_files=[], seed=1077089639, status='running', trained_tokens=None, training_file='file-LzsMs8HoGme8mjLNkG1tj5', validation_file=None, estimated_finish=None, integrations=[], metadata=None, method=Method(type='supervised', dpo=None, reinforcement=None, supervised=SupervisedMethod(hyperparameters=SupervisedHyperparameters(batch_size=1, learning_rate_multiplier=2.0, n_epochs=10))), user_provided_suffix='first finetune model', usage_metrics=None, shared_with_openai=False, eval_id=None), FineTuningJob(id='ftjob-33jo5MOFb9pRb3hw3wyjGcqc', created_at=1746911892, error=Error(code=None, message=None, param=None), fine_tuned_model='ft:gpt-3.5-turbo-0125:personal:first-finetune-model:BVlxx5Rt', finished_at=1746912247, hyperparameters=Hyperparameters(batch_size=1, learning_rate_multiplier=2.0, n_epochs=10), model='gpt-3.5-turbo-0125', object='fine_tuning.job', organization_id='org-N5jCdFOwg7AbgJgJ44UHXd3f', result_files=['file-X3GY8gwSqDRNRivvTFHZBY'], seed=1729590105, status='succeeded', trained_tokens=10730, training_file='file-5tHQQJPyF5LbRrNnfjpgLu', validation_file=None, estimated_finish=None, integrations=[], metadata=None, method=Method(type='supervised', dpo=None, reinforcement=None, supervised=SupervisedMethod(hyperparameters=SupervisedHyperparameters(batch_size=1, learning_rate_multiplier=2.0, n_epochs=10))), user_provided_suffix='first finetune model', usage_metrics=None, shared_with_openai=False, eval_id=None), FineTuningJob(id='ftjob-O51gcky5kWk32QUInGu6jqep', created_at=1744912411, error=Error(code=None, message=None, param=None), fine_tuned_model='ft:gpt-4o-mini-2024-07-18:personal:pricer:BNNw91jL', finished_at=1744913256, hyperparameters=Hyperparameters(batch_size=1, learning_rate_multiplier=1.8, n_epochs=1), model='gpt-4o-mini-2024-07-18', object='fine_tuning.job', organization_id='org-N5jCdFOwg7AbgJgJ44UHXd3f', result_files=['file-7qBB7U8GbWXCmKLrJT14hN'], seed=42, status='succeeded', trained_tokens=39235, training_file='file-UsijQ9AAdjukaxgKypWjsA', validation_file='file-1e4rJhiRSz7sMdTFzRVJ3h', estimated_finish=None, integrations=[], metadata=None, method=Method(type='supervised', dpo=None, reinforcement=None, supervised=SupervisedMethod(hyperparameters=SupervisedHyperparameters(batch_size=1, learning_rate_multiplier=1.8, n_epochs=1))), user_provided_suffix='pricer', usage_metrics=None, shared_with_openai=False, eval_id=None)], has_more=False, object='list')"
            ]
          },
          "metadata": {},
          "execution_count": 38
        }
      ]
    },
    {
      "cell_type": "code",
      "source": [
        "x.id"
      ],
      "metadata": {
        "colab": {
          "base_uri": "https://localhost:8080/",
          "height": 36
        },
        "id": "U_ZWy-3aevbu",
        "outputId": "e630f762-c1b3-48e7-b6ea-dfa462721a65"
      },
      "execution_count": 39,
      "outputs": [
        {
          "output_type": "execute_result",
          "data": {
            "text/plain": [
              "'ftjob-dzQRLsFURSn0gKlkPF72KFez'"
            ],
            "application/vnd.google.colaboratory.intrinsic+json": {
              "type": "string"
            }
          },
          "metadata": {},
          "execution_count": 39
        }
      ]
    },
    {
      "cell_type": "code",
      "source": [
        "for job in client.fine_tuning.jobs.list():\n",
        "  print(job.fine_tuned_model)"
      ],
      "metadata": {
        "colab": {
          "base_uri": "https://localhost:8080/"
        },
        "id": "CMOTij5ebPit",
        "outputId": "11147d93-6ac1-47d9-caae-1b415f2d63de"
      },
      "execution_count": 40,
      "outputs": [
        {
          "output_type": "stream",
          "name": "stdout",
          "text": [
            "None\n",
            "None\n",
            "None\n",
            "ft:gpt-3.5-turbo-0125:personal:first-finetune-model:BVlxx5Rt\n",
            "ft:gpt-4o-mini-2024-07-18:personal:pricer:BNNw91jL\n"
          ]
        }
      ]
    },
    {
      "cell_type": "code",
      "source": [
        "client.chat.completions.create(\n",
        "    model=\"ft:gpt-3.5-turbo-0125:personal:first-finetune-model:BVlxx5Rt\",\n",
        "    messages=[\n",
        "        {\"role\": \"system\", \"content\": \"You are a customer support agent for a smartphone company whose primary goal is to help users with issues they are experiencing with their smartphones. You are friendly and concise. You only provide factual answers to queries, and do not provide answers that are not related to smartphones.\"},\n",
        "        {\n",
        "            \"role\": \"user\",\n",
        "            \"content\": \"What warranty does a smartphone come with?\"\n",
        "        }\n",
        "    ]\n",
        ")"
      ],
      "metadata": {
        "colab": {
          "base_uri": "https://localhost:8080/"
        },
        "id": "i4xUA8-AbPl_",
        "outputId": "a9c346f1-cd33-41d0-febb-cfaea575b75e"
      },
      "execution_count": 41,
      "outputs": [
        {
          "output_type": "execute_result",
          "data": {
            "text/plain": [
              "ChatCompletion(id='chatcmpl-C3WKYQZYAFHX68T3rHRk6459GQGkf', choices=[Choice(finish_reason='stop', index=0, logprobs=None, message=ChatCompletionMessage(content='Smartphones typically come with a one-year limited warranty covering manufacturer defects. For specific warranty details, please refer to your product documentation or the official website.', refusal=None, role='assistant', annotations=[], audio=None, function_call=None, tool_calls=None))], created=1754955298, model='ft:gpt-3.5-turbo-0125:personal:first-finetune-model:BVlxx5Rt', object='chat.completion', service_tier='default', system_fingerprint=None, usage=CompletionUsage(completion_tokens=30, prompt_tokens=71, total_tokens=101, completion_tokens_details=CompletionTokensDetails(accepted_prediction_tokens=0, audio_tokens=0, reasoning_tokens=0, rejected_prediction_tokens=0), prompt_tokens_details=PromptTokensDetails(audio_tokens=0, cached_tokens=0)))"
            ]
          },
          "metadata": {},
          "execution_count": 41
        }
      ]
    },
    {
      "cell_type": "code",
      "source": [
        "ans=client.chat.completions.create(\n",
        "    model=\"ft:gpt-3.5-turbo-0125:personal:first-finetune-model:BVlxx5Rt\",\n",
        "    messages=[\n",
        "        {\"role\": \"system\", \"content\": \"You are a customer support agent for a smartphone company whose primary goal is to help users with issues they are experiencing with their smartphones. You are friendly and concise. You only provide factual answers to queries, and do not provide answers that are not related to smartphones.\"},\n",
        "        {\n",
        "            \"role\": \"user\",\n",
        "            \"content\": \"hi how are you?\"\n",
        "        }\n",
        "    ]\n",
        ")"
      ],
      "metadata": {
        "id": "rcdGHlflbPpN"
      },
      "execution_count": 42,
      "outputs": []
    },
    {
      "cell_type": "code",
      "source": [
        "print(ans.choices[0].message.content)"
      ],
      "metadata": {
        "colab": {
          "base_uri": "https://localhost:8080/"
        },
        "id": "iVfSY_mGbPr9",
        "outputId": "d8276249-bed0-4d87-dc06-7e3b365a9454"
      },
      "execution_count": 43,
      "outputs": [
        {
          "output_type": "stream",
          "name": "stdout",
          "text": [
            "I'm here to help with any smartphone issues you're experiencing.\n"
          ]
        }
      ]
    },
    {
      "cell_type": "code",
      "source": [],
      "metadata": {
        "id": "Du3WCZWzbPul"
      },
      "execution_count": null,
      "outputs": []
    },
    {
      "cell_type": "code",
      "source": [],
      "metadata": {
        "id": "1c_7ByCGbPxZ"
      },
      "execution_count": null,
      "outputs": []
    },
    {
      "cell_type": "code",
      "source": [],
      "metadata": {
        "id": "pXakVPmWbP0B"
      },
      "execution_count": null,
      "outputs": []
    },
    {
      "cell_type": "code",
      "source": [],
      "metadata": {
        "id": "OF-Z0mjWbP2r"
      },
      "execution_count": null,
      "outputs": []
    },
    {
      "cell_type": "code",
      "source": [],
      "metadata": {
        "id": "b2zAUPONbP5h"
      },
      "execution_count": null,
      "outputs": []
    }
  ]
}